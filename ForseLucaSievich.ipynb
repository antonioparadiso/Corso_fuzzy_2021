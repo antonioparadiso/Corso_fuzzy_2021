{
  "nbformat": 4,
  "nbformat_minor": 0,
  "metadata": {
    "colab": {
      "name": "Untitled0.ipynb",
      "provenance": [],
      "authorship_tag": "ABX9TyNJarC6j9S3QMHDqySSdfi+",
      "include_colab_link": true
    },
    "kernelspec": {
      "name": "python3",
      "display_name": "Python 3"
    }
  },
  "cells": [
    {
      "cell_type": "markdown",
      "metadata": {
        "id": "view-in-github",
        "colab_type": "text"
      },
      "source": [
        "<a href=\"https://colab.research.google.com/github/antonioparadiso/Corso_fuzzy_2021/blob/main/ForseLucaSievich.ipynb\" target=\"_parent\"><img src=\"https://colab.research.google.com/assets/colab-badge.svg\" alt=\"Open In Colab\"/></a>"
      ]
    },
    {
      "cell_type": "markdown",
      "metadata": {
        "id": "AYNkMWVfLKAR"
      },
      "source": [
        "# Cos'è? Bho forse Luca sievich qualcosa\r\n",
        "**Prof se lo state vedendo fate finta di niente**\r\n",
        "\r\n",
        "Lorem impsum qualdfadfhasfdlkajflkafhalfprintf(\"\\n\");"
      ]
    },
    {
      "cell_type": "code",
      "metadata": {
        "id": "PuU9i9PuLH5h"
      },
      "source": [
        "import matplotlib.pyplot as plt\r\n",
        "#import numpy as np\r\n",
        "\r\n",
        "from numpy import arange"
      ],
      "execution_count": null,
      "outputs": []
    },
    {
      "cell_type": "code",
      "metadata": {
        "colab": {
          "base_uri": "https://localhost:8080/",
          "height": 579
        },
        "id": "frCRD7dPLWAl",
        "outputId": "b245d323-6e52-44d1-ad60-1cea2b05e4fe"
      },
      "source": [
        "def f(x,y = 0):\r\n",
        "  print(y)\r\n",
        "  return x\r\n",
        "\r\n",
        "\r\n",
        "inizio = 0.\r\n",
        "step = 0.05\r\n",
        "fine = 1.\r\n",
        "t1 = arange(inizio, fine + step, step)\r\n",
        "\r\n",
        "\r\n",
        "plt.figure()\r\n",
        "plt.title('funzione veritá')\r\n",
        "plt.plot(t1, f(t1))\r\n",
        "\r\n",
        "\r\n",
        "plt.figure()\r\n",
        "plt.title('funzione veritá 2')\r\n",
        "plt.plot([0,.5,1],[0,1,0])"
      ],
      "execution_count": null,
      "outputs": [
        {
          "output_type": "stream",
          "text": [
            "0\n"
          ],
          "name": "stdout"
        },
        {
          "output_type": "execute_result",
          "data": {
            "text/plain": [
              "[<matplotlib.lines.Line2D at 0x7fd598aa8810>]"
            ]
          },
          "metadata": {
            "tags": []
          },
          "execution_count": 2
        },
        {
          "output_type": "display_data",
          "data": {
            "image/png": "[encoded data removed]",
            "text/plain": [
              "<Figure size 432x288 with 1 Axes>"
            ]
          },
          "metadata": {
            "tags": [],
            "needs_background": "light"
          }
        },
        {
          "output_type": "display_data",
          "data": {
            "image/png": "[encoded data removed]",
            "text/plain": [
              "<Figure size 432x288 with 1 Axes>"
            ]
          },
          "metadata": {
            "tags": [],
            "needs_background": "light"
          }
        }
      ]
    },
    {
      "cell_type": "code",
      "metadata": {
        "colab": {
          "base_uri": "https://localhost:8080/"
        },
        "id": "PY3rCUS9LYv2",
        "outputId": "65e337ee-86a4-4222-e650-21aaded1b2da"
      },
      "source": [
        "print(t1)"
      ],
      "execution_count": null,
      "outputs": [
        {
          "output_type": "stream",
          "text": [
            "[0.   0.05 0.1  0.15 0.2  0.25 0.3  0.35 0.4  0.45 0.5  0.55 0.6  0.65\n",
            " 0.7  0.75 0.8  0.85 0.9  0.95 1.  ]\n"
          ],
          "name": "stdout"
        }
      ]
    },
    {
      "cell_type": "code",
      "metadata": {
        "id": "Q7cYD1a_LikN"
      },
      "source": [
        "dict = {'id' : '4237845623974kd234726'}"
      ],
      "execution_count": null,
      "outputs": []
    },
    {
      "cell_type": "code",
      "metadata": {
        "colab": {
          "base_uri": "https://localhost:8080/",
          "height": 35
        },
        "id": "uA1cMOlNLjLA",
        "outputId": "36e33b1b-dfe7-4d55-f0f8-9afcaf41580a"
      },
      "source": [
        "dict['id']"
      ],
      "execution_count": null,
      "outputs": [
        {
          "output_type": "execute_result",
          "data": {
            "application/vnd.google.colaboratory.intrinsic+json": {
              "type": "string"
            },
            "text/plain": [
              "'4237845623974kd234726'"
            ]
          },
          "metadata": {
            "tags": []
          },
          "execution_count": 5
        }
      ]
    },
    {
      "cell_type": "code",
      "metadata": {
        "id": "IIJQpCvbLlqR"
      },
      "source": [
        ""
      ],
      "execution_count": null,
      "outputs": []
    }
  ]
}