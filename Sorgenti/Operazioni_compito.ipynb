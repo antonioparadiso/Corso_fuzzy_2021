{
  "nbformat": 4,
  "nbformat_minor": 0,
  "metadata": {
    "colab": {
      "name": "Untitled4.ipynb",
      "provenance": [],
      "authorship_tag": "ABX9TyNMumCBef1ye54+iN7nmmjA",
      "include_colab_link": true
    },
    "kernelspec": {
      "name": "python3",
      "display_name": "Python 3"
    }
  },
  "cells": [
    {
      "cell_type": "markdown",
      "metadata": {
        "id": "view-in-github",
        "colab_type": "text"
      },
      "source": [
        "<a href=\"https://colab.research.google.com/github/antonioparadiso/Corso_fuzzy_2021/blob/main/Sorgenti/Operazioni_compito.ipynb\" target=\"_parent\"><img src=\"https://colab.research.google.com/assets/colab-badge.svg\" alt=\"Open In Colab\"/></a>"
      ]
    },
    {
      "cell_type": "code",
      "metadata": {
        "id": "SST06olcBa6H"
      },
      "source": [
        "#Connettivo compito 1\r\n",
        "def uno(var1): \r\n",
        "  return var1 or (not var1)\r\n",
        "\r\n",
        "#Connettivo compito 2\r\n",
        "def due(var1, var2):\r\n",
        "  return (not (not var1) or var2)"
      ],
      "execution_count": 1,
      "outputs": []
    },
    {
      "cell_type": "code",
      "metadata": {
        "id": "WXuFjbjHDWw6"
      },
      "source": [
        "def stampa_tabella(formula):\r\n",
        "  valori = (False,True)\r\n",
        " \r\n",
        "  print('\\nTabella di verita\\':')\r\n",
        "  if formula == 'uno':\r\n",
        "    for A in valori:\r\n",
        "      print(f'{A} | {eval(formula+\"(A)\")}')\r\n",
        "\r\n",
        "  else:               \r\n",
        "    for A in valori:\r\n",
        "      for B in valori:\r\n",
        "        print(f' {A} | {B} | {eval(formula+\"(A,B)\")}') "
      ],
      "execution_count": 6,
      "outputs": []
    },
    {
      "cell_type": "code",
      "metadata": {
        "colab": {
          "base_uri": "https://localhost:8080/"
        },
        "id": "G2hmZ0C7Dgy3",
        "outputId": "5e5d8757-e7c3-4768-c049-698f45deb201"
      },
      "source": [
        "print('Benvenuto in AntOperazioni!')\r\n",
        "print('Spero ti divertirai!\\n\\n')\r\n",
        "\r\n",
        "risposta = 's'#per terminare il while\r\n",
        "while risposta == 's':\r\n",
        "  #input utente\r\n",
        "  operazione = input('Quale Operazione Vuoi Effettuare? \"uno\" \"due\"')\r\n",
        "    \r\n",
        "  #concateno le stringhe per richiamare delle funzioni\r\n",
        "  stampa_tabella(operazione)\r\n",
        "  risposta = input('\\nUn\\'altra Operazione? Si(s), no(n)')\r\n",
        "\r\n",
        "print('\\n\\nGrazie per avermi utilizzato!')"
      ],
      "execution_count": 7,
      "outputs": [
        {
          "output_type": "stream",
          "text": [
            "Benvenuto in AntOperazioni!\n",
            "Spero ti divertirai!\n",
            "\n",
            "\n",
            "Quale Operazione Vuoi Effettuare? \"uno\" \"due\"uno\n",
            "\n",
            "Tabella di verita':\n",
            "False | True\n",
            "True | True\n",
            "\n",
            "Un'altra Operazione? Si(s), no(n)s\n",
            "Quale Operazione Vuoi Effettuare? \"uno\" \"due\"due\n",
            "\n",
            "Tabella di verita':\n",
            " False | False | False\n",
            " False | True | True\n",
            " True | False | True\n",
            " True | True | True\n",
            "\n",
            "Un'altra Operazione? Si(s), no(n)n\n",
            "\n",
            "\n",
            "Grazie per avermi utilizzato!\n"
          ],
          "name": "stdout"
        }
      ]
    }
  ]
}