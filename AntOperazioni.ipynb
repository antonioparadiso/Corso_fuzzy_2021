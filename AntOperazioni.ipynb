{
  "nbformat": 4,
  "nbformat_minor": 0,
  "metadata": {
    "colab": {
      "name": "Untitled3.ipynb",
      "provenance": [],
      "collapsed_sections": [],
      "authorship_tag": "ABX9TyOYrmmAdBkDhFdCU+IzwUBI",
      "include_colab_link": true
    },
    "kernelspec": {
      "name": "python3",
      "display_name": "Python 3"
    }
  },
  "cells": [
    {
      "cell_type": "markdown",
      "metadata": {
        "id": "view-in-github",
        "colab_type": "text"
      },
      "source": [
        "<a href=\"https://colab.research.google.com/github/antonioparadiso/Corso_fuzzy_2021/blob/main/AntOperazioni.ipynb\" target=\"_parent\"><img src=\"https://colab.research.google.com/assets/colab-badge.svg\" alt=\"Open In Colab\"/></a>"
      ]
    },
    {
      "cell_type": "code",
      "metadata": {
        "id": "TpX3-PYdUYdy"
      },
      "source": [
        "#Connettivo NOT\r\n",
        "def notb(var1): #Come con tutte le funzioni, ne ho creata una bool e l'altra Luca\r\n",
        "  return int (not var1)\r\n",
        "def notl(var1): #Si sarebbe potuto usare in un'unica funzione if ed else, ma non sono riuscito ad impostare bene la funzione di stampa\r\n",
        "  return 1 - int (var1)\r\n",
        "  \r\n",
        "\r\n",
        "#Connettivo AND\r\n",
        "def andb(var1,var2):\r\n",
        "  return var1 and var2 \r\n",
        "def andl(var1,var2):\r\n",
        "  return min (var1, var2)\r\n",
        "\r\n",
        "\r\n",
        "#Connettivo OR\r\n",
        "def orb(var1,var2):\r\n",
        "  return var1 or var2\r\n",
        "def orl(var1,var2):\r\n",
        "  return max(var1, var2)\r\n",
        "\r\n",
        "\r\n",
        "#Connettivo XOR\r\n",
        "def xorb(var1,var2):\r\n",
        "  return int (not ((not var1 and var2) or (var1 and not var2)))\r\n",
        "def xorl(var1,var2):\r\n",
        "  return  1 - abs(var1 - var2)\r\n",
        "\r\n",
        "\r\n",
        "#Connettivo freccia ->\r\n",
        "def frecciab(var1,var2):\r\n",
        "  return int (not var1 or var2)\r\n",
        "def freccial(var1,var2):\r\n",
        "  return min(1, 1 - var1 + var2)\r\n",
        "\r\n"
      ],
      "execution_count": null,
      "outputs": []
    },
    {
      "cell_type": "code",
      "metadata": {
        "id": "ZnKsHZS_Ud0n"
      },
      "source": [
        "def stampa_tabella(formula):\r\n",
        "  valori = (0,1)\r\n",
        " \r\n",
        "  print('\\nTabella di verita\\':')\r\n",
        "  if formula == 'notb':#Si sarebbe putoto evitare l'elif \r\n",
        "    for A in valori:\r\n",
        "      print(f'{A} | {eval(formula+\"(A)\")}')\r\n",
        "  elif formula == 'notl':\r\n",
        "    for A in valori:\r\n",
        "      print(f'{A} | {eval(formula+\"(A)\")}')\r\n",
        "  else:               #Questo else consente la stampa di tutti i connettivi eccetto not\r\n",
        "    for A in valori:\r\n",
        "      for B in valori:\r\n",
        "        print(f' {A} | {B} | {eval(formula+\"(A,B)\")}')\r\n",
        "        "
      ],
      "execution_count": null,
      "outputs": []
    },
    {
      "cell_type": "code",
      "metadata": {
        "colab": {
          "base_uri": "https://localhost:8080/"
        },
        "id": "582MBQXFUg0z",
        "outputId": "bdeb29a0-6b99-4a31-a2f6-fb6842b1ff41"
      },
      "source": [
        "print('Benvenuto in AntOperazioni!')\r\n",
        "print('Spero ti divertirai!\\n\\n')\r\n",
        "\r\n",
        "risposta = 's'#per terminare il while\r\n",
        "while risposta == 's':\r\n",
        "  #input utente\r\n",
        "  operazione = input('Quale Operazione Vuoi Effettuare? \"and\", \"or\", \"xor\", \"not\", \"freccia\"')\r\n",
        "  logica = input('Che logica vuoi usare? Bool(b) o Lukasiewicz(l)')\r\n",
        "  \r\n",
        "  #concateno le stringhe per richiamare delle funzioni\r\n",
        "  stampa_tabella(operazionelogica)\r\n",
        "  risposta = input('\\nUn\\'altra Operazione? Si(s), no(n)')\r\n",
        "\r\n",
        "print('\\n\\nGrazie per avermi utilizzato!')"
      ],
      "execution_count": null,
      "outputs": [
        {
          "output_type": "stream",
          "text": [
            "Benvenuto in AntOperazioni!\n",
            "Spero ti divertirai!\n",
            "\n",
            "\n",
            "Quale Operazione Vuoi Effettuare? \"and\", \"or\", \"xor\", \"not\", \"freccia\"and\n",
            "Che logica vuoi usare? Bool(b) o Lukasiewicz(l)b\n",
            "\n",
            "Tabella di verita':\n",
            " 0 | 0 | 0\n",
            " 0 | 1 | 1\n",
            " 1 | 0 | 1\n",
            " 1 | 1 | 1\n",
            "\n",
            "Un'altra Operazione? Si(s), no(n)s\n",
            "Quale Operazione Vuoi Effettuare? \"and\", \"or\", \"xor\", \"not\", \"freccia\"and\n",
            "Che logica vuoi usare? Bool(b) o Lukasiewicz(l)l\n",
            "\n",
            "Tabella di verita':\n",
            " 0 | 0 | 0\n",
            " 0 | 1 | 1\n",
            " 1 | 0 | 1\n",
            " 1 | 1 | 1\n",
            "\n",
            "Un'altra Operazione? Si(s), no(n)n\n",
            "\n",
            "\n",
            "Grazie per avermi utilizzato!\n"
          ],
          "name": "stdout"
        }
      ]
    }
  ]
}